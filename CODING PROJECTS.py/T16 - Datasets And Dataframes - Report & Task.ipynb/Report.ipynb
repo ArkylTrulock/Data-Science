{
 "cells": [
  {
   "cell_type": "code",
   "execution_count": 1,
   "metadata": {},
   "outputs": [
    {
     "data": {
      "text/html": [
       "<div>\n",
       "<style scoped>\n",
       "    .dataframe tbody tr th:only-of-type {\n",
       "        vertical-align: middle;\n",
       "    }\n",
       "\n",
       "    .dataframe tbody tr th {\n",
       "        vertical-align: top;\n",
       "    }\n",
       "\n",
       "    .dataframe thead th {\n",
       "        text-align: right;\n",
       "    }\n",
       "</style>\n",
       "<table border=\"1\" class=\"dataframe\">\n",
       "  <thead>\n",
       "    <tr style=\"text-align: right;\">\n",
       "      <th></th>\n",
       "      <th>Balance</th>\n",
       "      <th>Income</th>\n",
       "      <th>Limit</th>\n",
       "      <th>Rating</th>\n",
       "      <th>Cards</th>\n",
       "      <th>Age</th>\n",
       "      <th>Education</th>\n",
       "      <th>Gender</th>\n",
       "      <th>Student</th>\n",
       "      <th>Married</th>\n",
       "      <th>Ethnicity</th>\n",
       "    </tr>\n",
       "  </thead>\n",
       "  <tbody>\n",
       "    <tr>\n",
       "      <th>0</th>\n",
       "      <td>12.240798</td>\n",
       "      <td>14.891</td>\n",
       "      <td>3606</td>\n",
       "      <td>283</td>\n",
       "      <td>2</td>\n",
       "      <td>34</td>\n",
       "      <td>11</td>\n",
       "      <td>Male</td>\n",
       "      <td>No</td>\n",
       "      <td>Yes</td>\n",
       "      <td>Caucasian</td>\n",
       "    </tr>\n",
       "    <tr>\n",
       "      <th>1</th>\n",
       "      <td>23.283334</td>\n",
       "      <td>106.025</td>\n",
       "      <td>6645</td>\n",
       "      <td>483</td>\n",
       "      <td>3</td>\n",
       "      <td>82</td>\n",
       "      <td>15</td>\n",
       "      <td>Female</td>\n",
       "      <td>Yes</td>\n",
       "      <td>Yes</td>\n",
       "      <td>Asian</td>\n",
       "    </tr>\n",
       "    <tr>\n",
       "      <th>2</th>\n",
       "      <td>22.530409</td>\n",
       "      <td>104.593</td>\n",
       "      <td>7075</td>\n",
       "      <td>514</td>\n",
       "      <td>4</td>\n",
       "      <td>71</td>\n",
       "      <td>11</td>\n",
       "      <td>Male</td>\n",
       "      <td>No</td>\n",
       "      <td>No</td>\n",
       "      <td>Asian</td>\n",
       "    </tr>\n",
       "    <tr>\n",
       "      <th>3</th>\n",
       "      <td>27.652811</td>\n",
       "      <td>148.924</td>\n",
       "      <td>9504</td>\n",
       "      <td>681</td>\n",
       "      <td>3</td>\n",
       "      <td>36</td>\n",
       "      <td>11</td>\n",
       "      <td>Female</td>\n",
       "      <td>No</td>\n",
       "      <td>No</td>\n",
       "      <td>Asian</td>\n",
       "    </tr>\n",
       "    <tr>\n",
       "      <th>4</th>\n",
       "      <td>16.893978</td>\n",
       "      <td>55.882</td>\n",
       "      <td>4897</td>\n",
       "      <td>357</td>\n",
       "      <td>2</td>\n",
       "      <td>68</td>\n",
       "      <td>16</td>\n",
       "      <td>Male</td>\n",
       "      <td>No</td>\n",
       "      <td>Yes</td>\n",
       "      <td>Caucasian</td>\n",
       "    </tr>\n",
       "    <tr>\n",
       "      <th>...</th>\n",
       "      <td>...</td>\n",
       "      <td>...</td>\n",
       "      <td>...</td>\n",
       "      <td>...</td>\n",
       "      <td>...</td>\n",
       "      <td>...</td>\n",
       "      <td>...</td>\n",
       "      <td>...</td>\n",
       "      <td>...</td>\n",
       "      <td>...</td>\n",
       "      <td>...</td>\n",
       "    </tr>\n",
       "    <tr>\n",
       "      <th>395</th>\n",
       "      <td>8.764984</td>\n",
       "      <td>12.096</td>\n",
       "      <td>4100</td>\n",
       "      <td>307</td>\n",
       "      <td>3</td>\n",
       "      <td>32</td>\n",
       "      <td>13</td>\n",
       "      <td>Male</td>\n",
       "      <td>No</td>\n",
       "      <td>Yes</td>\n",
       "      <td>Caucasian</td>\n",
       "    </tr>\n",
       "    <tr>\n",
       "      <th>396</th>\n",
       "      <td>9.943838</td>\n",
       "      <td>13.364</td>\n",
       "      <td>3838</td>\n",
       "      <td>296</td>\n",
       "      <td>5</td>\n",
       "      <td>65</td>\n",
       "      <td>17</td>\n",
       "      <td>Male</td>\n",
       "      <td>No</td>\n",
       "      <td>No</td>\n",
       "      <td>African American</td>\n",
       "    </tr>\n",
       "    <tr>\n",
       "      <th>397</th>\n",
       "      <td>14.882078</td>\n",
       "      <td>57.872</td>\n",
       "      <td>4171</td>\n",
       "      <td>321</td>\n",
       "      <td>5</td>\n",
       "      <td>67</td>\n",
       "      <td>12</td>\n",
       "      <td>Female</td>\n",
       "      <td>No</td>\n",
       "      <td>Yes</td>\n",
       "      <td>Caucasian</td>\n",
       "    </tr>\n",
       "    <tr>\n",
       "      <th>398</th>\n",
       "      <td>12.001071</td>\n",
       "      <td>37.728</td>\n",
       "      <td>2525</td>\n",
       "      <td>192</td>\n",
       "      <td>1</td>\n",
       "      <td>44</td>\n",
       "      <td>13</td>\n",
       "      <td>Male</td>\n",
       "      <td>No</td>\n",
       "      <td>Yes</td>\n",
       "      <td>Caucasian</td>\n",
       "    </tr>\n",
       "    <tr>\n",
       "      <th>399</th>\n",
       "      <td>10.159598</td>\n",
       "      <td>18.701</td>\n",
       "      <td>5524</td>\n",
       "      <td>415</td>\n",
       "      <td>5</td>\n",
       "      <td>64</td>\n",
       "      <td>7</td>\n",
       "      <td>Female</td>\n",
       "      <td>No</td>\n",
       "      <td>No</td>\n",
       "      <td>Asian</td>\n",
       "    </tr>\n",
       "  </tbody>\n",
       "</table>\n",
       "<p>400 rows × 11 columns</p>\n",
       "</div>"
      ],
      "text/plain": [
       "       Balance   Income  Limit  Rating  Cards  Age  Education  Gender Student  \\\n",
       "0    12.240798   14.891   3606     283      2   34         11    Male      No   \n",
       "1    23.283334  106.025   6645     483      3   82         15  Female     Yes   \n",
       "2    22.530409  104.593   7075     514      4   71         11    Male      No   \n",
       "3    27.652811  148.924   9504     681      3   36         11  Female      No   \n",
       "4    16.893978   55.882   4897     357      2   68         16    Male      No   \n",
       "..         ...      ...    ...     ...    ...  ...        ...     ...     ...   \n",
       "395   8.764984   12.096   4100     307      3   32         13    Male      No   \n",
       "396   9.943838   13.364   3838     296      5   65         17    Male      No   \n",
       "397  14.882078   57.872   4171     321      5   67         12  Female      No   \n",
       "398  12.001071   37.728   2525     192      1   44         13    Male      No   \n",
       "399  10.159598   18.701   5524     415      5   64          7  Female      No   \n",
       "\n",
       "    Married         Ethnicity  \n",
       "0       Yes         Caucasian  \n",
       "1       Yes             Asian  \n",
       "2        No             Asian  \n",
       "3        No             Asian  \n",
       "4       Yes         Caucasian  \n",
       "..      ...               ...  \n",
       "395     Yes         Caucasian  \n",
       "396      No  African American  \n",
       "397     Yes         Caucasian  \n",
       "398     Yes         Caucasian  \n",
       "399      No             Asian  \n",
       "\n",
       "[400 rows x 11 columns]"
      ]
     },
     "execution_count": 1,
     "metadata": {},
     "output_type": "execute_result"
    }
   ],
   "source": [
    "import pandas as pd\n",
    "import seaborn as sns\n",
    "import matplotlib.pyplot as plt\n",
    "\n",
    "filepath = r\"\\Users\\tailb\\Data Science\\JUPYTER NOTEBOOK\\balance.txt\"\n",
    "balance_df = pd.read_csv(filepath, delimiter=' ') # Or sep=''\n",
    "balance_df"
   ]
  },
  {
   "cell_type": "markdown",
   "metadata": {},
   "source": [
    "Compare the average income based on ethnicity."
   ]
  },
  {
   "cell_type": "code",
   "execution_count": 2,
   "metadata": {},
   "outputs": [
    {
     "data": {
      "text/html": [
       "<div>\n",
       "<style scoped>\n",
       "    .dataframe tbody tr th:only-of-type {\n",
       "        vertical-align: middle;\n",
       "    }\n",
       "\n",
       "    .dataframe tbody tr th {\n",
       "        vertical-align: top;\n",
       "    }\n",
       "\n",
       "    .dataframe thead th {\n",
       "        text-align: right;\n",
       "    }\n",
       "</style>\n",
       "<table border=\"1\" class=\"dataframe\">\n",
       "  <thead>\n",
       "    <tr style=\"text-align: right;\">\n",
       "      <th></th>\n",
       "      <th>Income</th>\n",
       "    </tr>\n",
       "    <tr>\n",
       "      <th>Ethnicity</th>\n",
       "      <th></th>\n",
       "    </tr>\n",
       "  </thead>\n",
       "  <tbody>\n",
       "    <tr>\n",
       "      <th>African American</th>\n",
       "      <td>48.0</td>\n",
       "    </tr>\n",
       "    <tr>\n",
       "      <th>Asian</th>\n",
       "      <td>44.0</td>\n",
       "    </tr>\n",
       "    <tr>\n",
       "      <th>Caucasian</th>\n",
       "      <td>45.0</td>\n",
       "    </tr>\n",
       "  </tbody>\n",
       "</table>\n",
       "</div>"
      ],
      "text/plain": [
       "                  Income\n",
       "Ethnicity               \n",
       "African American    48.0\n",
       "Asian               44.0\n",
       "Caucasian           45.0"
      ]
     },
     "execution_count": 2,
     "metadata": {},
     "output_type": "execute_result"
    }
   ],
   "source": [
    "#print(balance_df.groupby('Ethnicity')['Income'].mean()) # Alternate 2\n",
    "#balance_df.groupby('Ethnicity')['Income'].mean().round(0) # Alternate 3\n",
    "\n",
    "# Select column 'Ethnicity' & 'Income', group by unique variable 'Ethnicity' and calculate mean 'Income'.\n",
    "# The round(0) function rounds our float value to the nearest integer/full number.\n",
    "balance_df[['Ethnicity','Income']].groupby('Ethnicity').mean().round()"
   ]
  },
  {
   "cell_type": "code",
   "execution_count": 64,
   "metadata": {},
   "outputs": [
    {
     "name": "stdout",
     "output_type": "stream",
     "text": [
      "African American Average Income: 48\n",
      "Asian Average Income: 44\n",
      "Caucasian Average Income: 45\n",
      "\n",
      "African Americans on average earn the most compared to the Asian and Caucasian group.\n"
     ]
    }
   ],
   "source": [
    "# .loc is used to access a group of rows and columns by label(s) or a boolean array.\n",
    "African_American = balance_df[balance_df['Ethnicity']=='African American'].loc[:,'Income'].mean().__round__()\n",
    "Asian = balance_df[balance_df['Ethnicity']=='Asian'].loc[:,'Income'].mean().__round__()\n",
    "Caucasian = balance_df[balance_df['Ethnicity']=='Caucasian'].loc[:,'Income'].mean().__round__()\n",
    "print(f\"African American Average Income: {African_American}\\nAsian Average Income: {Asian}\\nCaucasian Average Income: {Caucasian}\")\n",
    "print(\"\\nAfrican Americans on average earn the most compared to the Asian and Caucasian group.\")"
   ]
  },
  {
   "cell_type": "markdown",
   "metadata": {},
   "source": [
    "On average do married or single people have a higher balance?\n"
   ]
  },
  {
   "cell_type": "code",
   "execution_count": 2,
   "metadata": {},
   "outputs": [
    {
     "data": {
      "text/html": [
       "<div>\n",
       "<style scoped>\n",
       "    .dataframe tbody tr th:only-of-type {\n",
       "        vertical-align: middle;\n",
       "    }\n",
       "\n",
       "    .dataframe tbody tr th {\n",
       "        vertical-align: top;\n",
       "    }\n",
       "\n",
       "    .dataframe thead th {\n",
       "        text-align: right;\n",
       "    }\n",
       "</style>\n",
       "<table border=\"1\" class=\"dataframe\">\n",
       "  <thead>\n",
       "    <tr style=\"text-align: right;\">\n",
       "      <th></th>\n",
       "      <th>Balance</th>\n",
       "    </tr>\n",
       "    <tr>\n",
       "      <th>Married</th>\n",
       "      <th></th>\n",
       "    </tr>\n",
       "  </thead>\n",
       "  <tbody>\n",
       "    <tr>\n",
       "      <th>No</th>\n",
       "      <td>13.0</td>\n",
       "    </tr>\n",
       "    <tr>\n",
       "      <th>Yes</th>\n",
       "      <td>13.0</td>\n",
       "    </tr>\n",
       "  </tbody>\n",
       "</table>\n",
       "</div>"
      ],
      "text/plain": [
       "         Balance\n",
       "Married         \n",
       "No          13.0\n",
       "Yes         13.0"
      ]
     },
     "execution_count": 2,
     "metadata": {},
     "output_type": "execute_result"
    }
   ],
   "source": [
    "# Select column 'Married' & 'Balance', group by unique variable 'Married' and calculate mean 'Balance'.\n",
    "# The round(0) function rounds our float value to the nearest integer/full number.\n",
    "balance_df[['Married','Balance']].groupby('Married').mean().round()"
   ]
  },
  {
   "cell_type": "code",
   "execution_count": 3,
   "metadata": {},
   "outputs": [
    {
     "name": "stdout",
     "output_type": "stream",
     "text": [
      "The average balance for married people is 13 and the average balance for single people is 13\n",
      "On average, married and single people have the same balance.\n"
     ]
    }
   ],
   "source": [
    "# .loc is used to access a group of rows and columns by label(s) or a boolean array.\n",
    "married = balance_df[balance_df['Married']=='Yes'].loc[:,'Balance'].mean().__round__()\n",
    "not_married = balance_df[balance_df['Married']=='No'].loc[:,'Balance'].mean().__round__()\n",
    "print(f\"The average balance for married people is {married} and the average balance for single people is {not_married}\")\n",
    "print(\"On average, married and single people have the same balance.\")"
   ]
  },
  {
   "cell_type": "markdown",
   "metadata": {},
   "source": [
    "What is the highest income in our data set?"
   ]
  },
  {
   "cell_type": "code",
   "execution_count": 32,
   "metadata": {},
   "outputs": [
    {
     "name": "stdout",
     "output_type": "stream",
     "text": [
      "The highest income in our data set is:\t 186.634\n"
     ]
    }
   ],
   "source": [
    "#balance_df[['Ethnicity','Rating','Income']].groupby('Ethnicity').max() # Select  columns 'Ethnicity','Rating','Income', group by 'Ethnicity' and calculate the higest income.\n",
    "\n",
    "# Select column 'Income' and calculate the highest income.\n",
    "#print(\"The highest income in our data set is:\\t\",balance_df['Income'].max()) # Alternate 1\n",
    "\n",
    "# Select  column 'Income' and calculate the highest income.\n",
    "highest_income = balance_df['Income'].max()\n",
    "print(f\"The lowest income in our data set is:\\t{highest_income}\")"
   ]
  },
  {
   "cell_type": "markdown",
   "metadata": {},
   "source": [
    "What is the lowest income in our data set?\n",
    "\n"
   ]
  },
  {
   "cell_type": "code",
   "execution_count": 33,
   "metadata": {},
   "outputs": [
    {
     "name": "stdout",
     "output_type": "stream",
     "text": [
      "The lowest income in our data set is:\t10.354\n"
     ]
    }
   ],
   "source": [
    "#balance_df[['Ethnicity','Rating','Income']].groupby('Ethnicity').min() # Select  columns 'Ethnicity','Rating','Income', group by 'Ethnicity' and calculate the lowest income.\n",
    "\n",
    "# Select column 'Income' and calculate the lowest income. # Alternate 1\n",
    "#print(\"The lowest income is:\\t\",balance_df['Income'].min())\n",
    "\n",
    "# Select column 'Income' and calculate the lowest income.\n",
    "lowest_income = balance_df['Income'].min()\n",
    "print(f\"The lowest income in our data set is:\\t{lowest_income}\")"
   ]
  },
  {
   "cell_type": "markdown",
   "metadata": {},
   "source": [
    "How many cards do we have recorded in our dataset?"
   ]
  },
  {
   "cell_type": "code",
   "execution_count": 27,
   "metadata": {},
   "outputs": [
    {
     "name": "stdout",
     "output_type": "stream",
     "text": [
      "The sum of the cards is:\t1183\n"
     ]
    }
   ],
   "source": [
    "#balance_df[['Ethnicity','Cards']].groupby('Ethnicity').sum()  #Select columns 'Ethnicity','Cards', group by 'Ethnicity' and calculate the sum of cards.\n",
    "\n",
    "# Select column 'Cards' and calculate the sum.\n",
    "#print(\"The sum of the cards is:\\t\",balance_df['Cards'].sum()) # Alternate 1\n",
    "\n",
    "# Select column 'Cards' and calculate the sum.\n",
    "sum_of_cards = balance_df['Cards'].sum()\n",
    "print(f\"The sum of the cards is:\\t{sum_of_cards}\")"
   ]
  },
  {
   "cell_type": "markdown",
   "metadata": {},
   "source": [
    "How many females do we have information for vs how many males?\n"
   ]
  },
  {
   "cell_type": "code",
   "execution_count": 22,
   "metadata": {},
   "outputs": [
    {
     "data": {
      "text/plain": [
       "Gender\n",
       "Female    207\n",
       "Male      193\n",
       "Name: Gender, dtype: int64"
      ]
     },
     "execution_count": 22,
     "metadata": {},
     "output_type": "execute_result"
    }
   ],
   "source": [
    "#balance_df['Gender'].count() # Total count of both Male & Female.\n",
    "\n",
    "# Select the 'Gender' column, group by unique variable 'Gender' and calculate total count.\n",
    "balance_df.groupby('Gender')['Gender'].count().round(0)"
   ]
  },
  {
   "cell_type": "code",
   "execution_count": 23,
   "metadata": {},
   "outputs": [
    {
     "name": "stdout",
     "output_type": "stream",
     "text": [
      "The Female count is 207 and the Male count is 193\n"
     ]
    }
   ],
   "source": [
    "# .loc is used to access a group of rows and columns by label(s) or a boolean array.\n",
    "female = balance_df[balance_df['Gender']=='Female'].loc[:,'Gender'].count()\n",
    "male = balance_df[balance_df['Gender']=='Male'].loc[:,'Gender'].count()\n",
    "print(f\"The Female count is {female} and the Male count is {male}\")"
   ]
  }
 ],
 "metadata": {
  "kernelspec": {
   "display_name": "Python 3",
   "language": "python",
   "name": "python3"
  },
  "language_info": {
   "codemirror_mode": {
    "name": "ipython",
    "version": 3
   },
   "file_extension": ".py",
   "mimetype": "text/x-python",
   "name": "python",
   "nbconvert_exporter": "python",
   "pygments_lexer": "ipython3",
   "version": "3.12.1"
  }
 },
 "nbformat": 4,
 "nbformat_minor": 2
}
